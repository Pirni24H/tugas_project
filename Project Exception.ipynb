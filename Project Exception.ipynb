{
 "cells": [
  {
   "cell_type": "code",
   "execution_count": null,
   "id": "de940f1b-f4d3-4372-94d7-f2a69d7ce0c1",
   "metadata": {},
   "outputs": [
    {
     "name": "stdout",
     "output_type": "stream",
     "text": [
      "=== MENU MAHASISWA ===\n",
      "1. Tambah Data Mahasiswa\n",
      "2. Tampilkan Data Mahasiswa\n",
      "3. Exit\n"
     ]
    },
    {
     "name": "stdin",
     "output_type": "stream",
     "text": [
      "Pilih menu (1/2/3):  1\n",
      "Masukkan NIM (11 digit):  112029188219\n"
     ]
    },
    {
     "name": "stdout",
     "output_type": "stream",
     "text": [
      "Terjadi kesalahan: NIM harus terdiri dari 11 angka. \n",
      "\n",
      "=== MENU MAHASISWA ===\n",
      "1. Tambah Data Mahasiswa\n",
      "2. Tampilkan Data Mahasiswa\n",
      "3. Exit\n"
     ]
    },
    {
     "name": "stdin",
     "output_type": "stream",
     "text": [
      "Pilih menu (1/2/3):  1\n",
      "Masukkan NIM (11 digit):  12345678910\n",
      "Masukkan Nama (minimal 6 karakter):  Pirnis\n"
     ]
    }
   ],
   "source": [
    "mahasiswa = []\n",
    "\n",
    "def menambahkan_mahasiswa():\n",
    "    try:\n",
    "        nim = input(\"Masukkan NIM Anda: \")\n",
    "        if len(nim) != 11 or not nim.isdigit():\n",
    "            raise ValueError(\"NIM harus terdiri dari 11 angka.\")\n",
    "\n",
    "        nama = input(\"Masukkan Nama Anda: \")\n",
    "        if len(nama) > 6:\n",
    "            raise ValueError(\"Nama harus minimal 6 karakter.\")\n",
    "\n",
    "        alamat = input(\"Masukkan Alamat anda: \")\n",
    "        if len(alamat) < 10:\n",
    "            raise ValueError(\"Alamat harus minimal 10 karakter.\")\n",
    "\n",
    "        kelas = input(\"Masukkan Kelas (TI24H, TI24A, TI24G, TI24F): \").upper()\n",
    "        if kelas not in [\"TI24H\", \"TI24A\", \"TI24G\", \"TI24F\"]:\n",
    "            raise ValueError(\"Kelas hanya ada TI24H, TI24A, TI24G, atau TI24F.\")\n",
    "\n",
    "        mahasiswa.append({\n",
    "            \"NIM\": nim,\n",
    "            \"Nama\": nama,\n",
    "            \"Alamat\": alamat,\n",
    "            \"Kelas\": kelas\n",
    "        })\n",
    "\n",
    "        print(\"Data mahasiswa berhasil ditambahkan.\\n\")\n",
    "\n",
    "    except ValueError as error:\n",
    "        print(\"Terjadi kesalahan:\", error, \"\\n\")\n",
    "\n",
    "def lihatkan_data_mahasiswa():\n",
    "    if not mahasiswa:\n",
    "        print(\"Belum ada data mahasiswa.\\n\")\n",
    "    else:\n",
    "        print(\"\\nDaftar Mahasiswa:\")\n",
    "        for index, data in enumerate(mahasiswa, start=1):\n",
    "            print(f\"{index}. NIM: {data['NIM']}, Nama: {data['Nama']}, Alamat: {data['Alamat']}, Kelas: {data['Kelas']}\")\n",
    "        print()\n",
    "\n",
    "def menu():\n",
    "    while True:\n",
    "        print(\"=== MENU MAHASISWA ===\")\n",
    "        print(\"1. Tambah Data Mahasiswa\")\n",
    "        print(\"2. Tampilkan Data Mahasiswa\")\n",
    "        print(\"3. Exit\")\n",
    "        pilihan = input(\"Pilih menu (1/2/3): \")\n",
    "\n",
    "        try:\n",
    "            if pilihan == \"1\":\n",
    "                tambah_mahasiswa()\n",
    "            elif pilihan == \"2\":\n",
    "                tampilkan_mahasiswa()\n",
    "            elif pilihan == \"3\":\n",
    "                print(\"Program selesai.\")\n",
    "                break\n",
    "            else:\n",
    "                raise ValueError(\"Pilihan tidak ada. Harus 1, 2, atau 3.\")\n",
    "        except ValueError as error:\n",
    "            print(\"Kesalahan:\", error, \"\\n\")\n",
    "\n",
    "menu()"
   ]
  },
  {
   "cell_type": "code",
   "execution_count": null,
   "id": "b727480f-c58e-409e-b7be-9ed81146bc60",
   "metadata": {},
   "outputs": [],
   "source": []
  }
 ],
 "metadata": {
  "kernelspec": {
   "display_name": "Python [conda env:base] *",
   "language": "python",
   "name": "conda-base-py"
  },
  "language_info": {
   "codemirror_mode": {
    "name": "ipython",
    "version": 3
   },
   "file_extension": ".py",
   "mimetype": "text/x-python",
   "name": "python",
   "nbconvert_exporter": "python",
   "pygments_lexer": "ipython3",
   "version": "3.12.7"
  }
 },
 "nbformat": 4,
 "nbformat_minor": 5
}
